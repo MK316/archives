{
  "nbformat": 4,
  "nbformat_minor": 0,
  "metadata": {
    "colab": {
      "provenance": [],
      "include_colab_link": true
    },
    "kernelspec": {
      "name": "python3",
      "display_name": "Python 3"
    },
    "language_info": {
      "name": "python"
    }
  },
  "cells": [
    {
      "cell_type": "markdown",
      "metadata": {
        "id": "view-in-github",
        "colab_type": "text"
      },
      "source": [
        "<a href=\"https://colab.research.google.com/github/MK316/archives/blob/main/Pypdf.ipynb\" target=\"_parent\"><img src=\"https://colab.research.google.com/assets/colab-badge.svg\" alt=\"Open In Colab\"/></a>"
      ]
    },
    {
      "cell_type": "markdown",
      "source": [
        "# 🌀 A single PDF file to a TEXT file\n",
        "\n",
        "Using {pdfPlumber}"
      ],
      "metadata": {
        "id": "6UqhTcH_3cbq"
      }
    },
    {
      "cell_type": "code",
      "source": [
        "!pip install pdfplumber\n",
        "import pdfplumber"
      ],
      "metadata": {
        "id": "lu31nFXA5uBe",
        "outputId": "9b277148-fa12-4e2d-ca75-8b7b86c4a587",
        "colab": {
          "base_uri": "https://localhost:8080/"
        }
      },
      "execution_count": 42,
      "outputs": [
        {
          "output_type": "stream",
          "name": "stdout",
          "text": [
            "Looking in indexes: https://pypi.org/simple, https://us-python.pkg.dev/colab-wheels/public/simple/\n",
            "Requirement already satisfied: pdfplumber in /usr/local/lib/python3.8/dist-packages (0.7.6)\n",
            "Requirement already satisfied: Pillow>=9.1 in /usr/local/lib/python3.8/dist-packages (from pdfplumber) (9.3.0)\n",
            "Requirement already satisfied: Wand>=0.6.10 in /usr/local/lib/python3.8/dist-packages (from pdfplumber) (0.6.10)\n",
            "Requirement already satisfied: pdfminer.six==20221105 in /usr/local/lib/python3.8/dist-packages (from pdfplumber) (20221105)\n",
            "Requirement already satisfied: cryptography>=36.0.0 in /usr/local/lib/python3.8/dist-packages (from pdfminer.six==20221105->pdfplumber) (38.0.4)\n",
            "Requirement already satisfied: charset-normalizer>=2.0.0 in /usr/local/lib/python3.8/dist-packages (from pdfminer.six==20221105->pdfplumber) (2.1.1)\n",
            "Requirement already satisfied: cffi>=1.12 in /usr/local/lib/python3.8/dist-packages (from cryptography>=36.0.0->pdfminer.six==20221105->pdfplumber) (1.15.1)\n",
            "Requirement already satisfied: pycparser in /usr/local/lib/python3.8/dist-packages (from cffi>=1.12->cryptography>=36.0.0->pdfminer.six==20221105->pdfplumber) (2.21)\n"
          ]
        }
      ]
    },
    {
      "cell_type": "markdown",
      "source": [
        "sample file: \n",
        "[file link](https://github.com/MK316/Workingpapers/blob/main/ksatdata/2014.12.pdf)\n",
        "\n",
        "=> Download the sample file and upload it on Colab platform (left side menu)"
      ],
      "metadata": {
        "id": "XI8IBSKpQSb2"
      }
    },
    {
      "cell_type": "code",
      "source": [
        "pdf = pdfplumber.open('/content/2014.12.pdf')"
      ],
      "metadata": {
        "id": "esUrJSNE4ZGl"
      },
      "execution_count": 4,
      "outputs": []
    },
    {
      "cell_type": "code",
      "source": [
        "#pdf.pages\n",
        "\n",
        "print(\"Number of pages: %d\"%len(pdf.pages))"
      ],
      "metadata": {
        "id": "K6mmXtXROHLY",
        "outputId": "04f296a6-a511-4946-d3e4-0b7bd677a8e4",
        "colab": {
          "base_uri": "https://localhost:8080/"
        }
      },
      "execution_count": 39,
      "outputs": [
        {
          "output_type": "stream",
          "name": "stdout",
          "text": [
            "Number of pages: 8\n"
          ]
        }
      ]
    },
    {
      "cell_type": "code",
      "source": [
        "# Specify page number to handle\n",
        "page = pdf.pages[7]"
      ],
      "metadata": {
        "id": "20lLWLzK7BKc"
      },
      "execution_count": 40,
      "outputs": []
    },
    {
      "cell_type": "code",
      "source": [
        "# Extract the page\n",
        "text = page.extract_text()"
      ],
      "metadata": {
        "id": "Lv33-5hb7GDj"
      },
      "execution_count": 26,
      "outputs": []
    },
    {
      "cell_type": "code",
      "source": [
        "print(text)"
      ],
      "metadata": {
        "id": "kA_7TAqS8fM7"
      },
      "execution_count": null,
      "outputs": []
    },
    {
      "cell_type": "markdown",
      "source": [
        "Collecting pages as one text file"
      ],
      "metadata": {
        "id": "2cC9S1thOlGQ"
      }
    },
    {
      "cell_type": "code",
      "source": [
        "total = \"\"\n",
        "\n",
        "for p in range(0,len(pdf.pages)):\n",
        "  pg = pdf.pages[p]\n",
        "  txt = pg.extract_text()\n",
        "  total = total + txt\n"
      ],
      "metadata": {
        "id": "vHbfedZlOkUb"
      },
      "execution_count": 34,
      "outputs": []
    },
    {
      "cell_type": "markdown",
      "source": [
        "Writing the text as file (txt format)"
      ],
      "metadata": {
        "id": "SSnrCoIFRGFQ"
      }
    },
    {
      "cell_type": "code",
      "source": [
        "with open('/content/test.txt','w') as writefile:\n",
        "  writefile.write(total)"
      ],
      "metadata": {
        "id": "Y8lqO0vMPUoK"
      },
      "execution_count": 35,
      "outputs": []
    },
    {
      "cell_type": "code",
      "source": [
        "# sum = 0 #make a counter\n",
        "# #making the function\n",
        "# for reports in text:\n",
        "#      report = pdfplumber.open(reports)\n",
        "#      page = report.pages[0]\n",
        "#      text = page.extract_text() #extracting the text\n",
        "#      value = text.split(\"\\n\")[6].replace(\"\\t\", \"\").split(\"R$\")[1]\n",
        "#      value = float(value)\n",
        "#      sum += value\n",
        "# print(\"{} ----> {}\".format(reports, value))"
      ],
      "metadata": {
        "id": "7YX1HgYY7dJf"
      },
      "execution_count": 41,
      "outputs": []
    }
  ]
}