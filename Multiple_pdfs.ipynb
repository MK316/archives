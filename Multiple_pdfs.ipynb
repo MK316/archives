{
  "nbformat": 4,
  "nbformat_minor": 0,
  "metadata": {
    "colab": {
      "provenance": [],
      "authorship_tag": "ABX9TyMdc9nm+pUQVzZuQjV8EsmF",
      "include_colab_link": true
    },
    "kernelspec": {
      "name": "python3",
      "display_name": "Python 3"
    },
    "language_info": {
      "name": "python"
    }
  },
  "cells": [
    {
      "cell_type": "markdown",
      "metadata": {
        "id": "view-in-github",
        "colab_type": "text"
      },
      "source": [
        "<a href=\"https://colab.research.google.com/github/MK316/archives/blob/main/Multiple_pdfs.ipynb\" target=\"_parent\"><img src=\"https://colab.research.google.com/assets/colab-badge.svg\" alt=\"Open In Colab\"/></a>"
      ]
    },
    {
      "cell_type": "markdown",
      "source": [
        "# Multiple pdf files to text files"
      ],
      "metadata": {
        "id": "x5UiiYplVeGd"
      }
    },
    {
      "cell_type": "code",
      "source": [
        "import os.path\n",
        "os.chdir('/content/data/')\n",
        "!pwd"
      ],
      "metadata": {
        "colab": {
          "base_uri": "https://localhost:8080/"
        },
        "id": "9VezPz7jSLHE",
        "outputId": "9ce6088a-cccb-49ff-fdfd-5afff43a8576"
      },
      "execution_count": null,
      "outputs": [
        {
          "output_type": "stream",
          "name": "stdout",
          "text": [
            "/content/data\n"
          ]
        }
      ]
    },
    {
      "cell_type": "code",
      "source": [
        "import os\n",
        "filenames = os.listdir('.')\n",
        "print(filenames)\n",
        "print(\"Number of files: %d\"%len(filenames))"
      ],
      "metadata": {
        "colab": {
          "base_uri": "https://localhost:8080/"
        },
        "id": "I7rtpZvxSpeI",
        "outputId": "34001044-1a60-4085-abfd-46aade72464d"
      },
      "execution_count": 18,
      "outputs": [
        {
          "output_type": "stream",
          "name": "stdout",
          "text": [
            "['2014.12.pdf', '2014.6.pdf', '.ipynb_checkpoints']\n",
            "Number of files: 3\n"
          ]
        }
      ]
    },
    {
      "cell_type": "code",
      "source": [
        "# Selecting files with pdf extension\n",
        "pdflist = []\n",
        "import os\n",
        "for file in os.listdir(\"/content/data\"):\n",
        "    if file.endswith(\".pdf\"):\n",
        "        pdflist.append(file)\n",
        "print(pdflist)"
      ],
      "metadata": {
        "id": "SRvLMUhSRl5i",
        "outputId": "4aece9d9-82dd-4af3-c5ac-d812237ad9bf",
        "colab": {
          "base_uri": "https://localhost:8080/"
        }
      },
      "execution_count": 22,
      "outputs": [
        {
          "output_type": "stream",
          "name": "stdout",
          "text": [
            "['2014.12.pdf', '2014.6.pdf']\n"
          ]
        }
      ]
    },
    {
      "cell_type": "code",
      "source": [
        "%%capture\n",
        "!pip install pdfplumber"
      ],
      "metadata": {
        "id": "kZ6KbvcEYGMY"
      },
      "execution_count": null,
      "outputs": []
    },
    {
      "cell_type": "code",
      "source": [
        "import pdfplumber"
      ],
      "metadata": {
        "id": "LRrT7NKIYV74"
      },
      "execution_count": null,
      "outputs": []
    },
    {
      "cell_type": "markdown",
      "source": [
        "* For a given file in a designated folder, extract pdf and save the content as a text file (save it as originalfilename.txt)"
      ],
      "metadata": {
        "id": "bkDKEWBgbhOl"
      }
    },
    {
      "cell_type": "code",
      "source": [
        "# Multiple text files to a single text file (saving as \"total.txt\")\n",
        "\n",
        "total = \"\"\n",
        "for i in range(0,len(pdflist)):\n",
        "  f = pdflist[i]\n",
        "  pdf = pdfplumber.open(f)\n",
        "  n = pdf.pages\n",
        "  \n",
        "  for j in range(0,len(n)):\n",
        "    page = pdf.pages[j]\n",
        "    text = page.extract_text()\n",
        "    total = total + text\n",
        "    txt = total\n",
        "  # txtfile = filenames[0].replace(\"pdf\", \"txt\")\n",
        "    with open('total.txt','w') as writefile:\n",
        "      writefile.write(txt)\n"
      ],
      "metadata": {
        "id": "uFkQhVGCS3WW"
      },
      "execution_count": 31,
      "outputs": []
    },
    {
      "cell_type": "code",
      "source": [
        "# Multiple text files as multiple (corresponding) files\n",
        "\n",
        "total = \"\"\n",
        "for i in range(0,len(pdflist)):\n",
        "  f = pdflist[i]\n",
        "  file_name = f.replace(\"pdf\", \"txt\")\n",
        "  pdf = pdfplumber.open(f)\n",
        "  n = pdf.pages\n",
        "  \n",
        "  for j in range(0,len(n)):\n",
        "      page = pdf.pages[j]\n",
        "      text = page.extract_text()\n",
        "      total = total + text\n",
        "\n",
        "  with open(file_name,'w') as writefile:\n",
        "      writefile.write(total)\n",
        "  total = \"\""
      ],
      "metadata": {
        "id": "VQYL8v4kOdO6"
      },
      "execution_count": 33,
      "outputs": []
    }
  ]
}