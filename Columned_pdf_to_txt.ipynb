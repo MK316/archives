{
  "nbformat": 4,
  "nbformat_minor": 0,
  "metadata": {
    "colab": {
      "provenance": [],
      "authorship_tag": "ABX9TyPtbRzc8Twyst/M8XEmVC6a",
      "include_colab_link": true
    },
    "kernelspec": {
      "name": "python3",
      "display_name": "Python 3"
    },
    "language_info": {
      "name": "python"
    }
  },
  "cells": [
    {
      "cell_type": "markdown",
      "metadata": {
        "id": "view-in-github",
        "colab_type": "text"
      },
      "source": [
        "<a href=\"https://colab.research.google.com/github/MK316/archives/blob/main/Columned_pdf_to_txt.ipynb\" target=\"_parent\"><img src=\"https://colab.research.google.com/assets/colab-badge.svg\" alt=\"Open In Colab\"/></a>"
      ]
    },
    {
      "cell_type": "markdown",
      "source": [
        "# PDF with columns to a text file\n",
        "\n",
        "* Example file: SAT test material (with 2 columns)"
      ],
      "metadata": {
        "id": "FweB4ySDfmX3"
      }
    },
    {
      "cell_type": "markdown",
      "source": [
        "[Sample file to download](https://github.com/MK316/Workingpapers/blob/main/ksatdata/2014.12.pdf)"
      ],
      "metadata": {
        "id": "OEfXGu_MfzmV"
      }
    },
    {
      "cell_type": "code",
      "execution_count": null,
      "metadata": {
        "id": "eramC7C9fcf6"
      },
      "outputs": [],
      "source": [
        "%%capture\n",
        "!pip install pymupdf\n",
        "import fitz"
      ]
    },
    {
      "cell_type": "code",
      "source": [
        "DIGITIZED_FILE = \"/content/2014.12.pdf\""
      ],
      "metadata": {
        "id": "MKfE2IwQf_BD"
      },
      "execution_count": null,
      "outputs": []
    },
    {
      "cell_type": "code",
      "source": [
        "total = \"\"\n",
        "with fitz.open(DIGITIZED_FILE) as doc:\n",
        "    for page in doc:\n",
        "        text = page.get_text()\n",
        "        total = total + text\n",
        "    response = input(\"Do you want to display the text? (y or n)\")\n",
        "    if response == \"y\":\n",
        "      print(text)\n",
        "    elif response == \"n\":\n",
        "      print(\"Your file is successfully extracted\")\n",
        "\n",
        "response = input(\"Would you like to save it as a text file? (y or n\")\n",
        "\n",
        "if response == \"y\":\n",
        "  file_name = DIGITIZED_FILE.replace(\"pdf\", \"txt\")\n",
        "\n",
        "  with open(file_name,'w') as writefile:\n",
        "    writefile.write(total)"
      ],
      "metadata": {
        "colab": {
          "base_uri": "https://localhost:8080/"
        },
        "id": "yjkDfezkgEyo",
        "outputId": "a1eeb8ea-d489-4ad6-c835-c4e17328d7b8"
      },
      "execution_count": null,
      "outputs": [
        {
          "name": "stdout",
          "output_type": "stream",
          "text": [
            "Do you want to display the text? (y or n)n\n",
            "Your file is successfully extracted\n",
            "Would you like to save it as a text file? (y or ny\n"
          ]
        }
      ]
    },
    {
      "cell_type": "code",
      "source": [
        "# Multiple pdf files to a single file\n",
        "\n",
        "# 1. Make a new directory and change current one to the new one.\n",
        "import os.path\n",
        "os.mkdir(\"/content/data/\")\n",
        "os.chdir(\"/content/data/\")"
      ],
      "metadata": {
        "id": "FyS5tYYQhUmI"
      },
      "execution_count": null,
      "outputs": []
    },
    {
      "cell_type": "markdown",
      "source": [],
      "metadata": {
        "id": "37Sp3W1GiRp0"
      }
    },
    {
      "cell_type": "code",
      "source": [
        "# 2. Upload pdf files under /data/ folder\n",
        "response = input(\"Have you uploaded all pdf files? (y or n)\")\n",
        "if response == \"y\":\n",
        "  print(\"Okay, go to the next code\")\n",
        "else:\n",
        "  print(\"Rerun this code when upload is done.\")"
      ],
      "metadata": {
        "colab": {
          "base_uri": "https://localhost:8080/"
        },
        "id": "NawXc99XiLlw",
        "outputId": "76992cea-296d-4444-88a3-4d35944308bb"
      },
      "execution_count": null,
      "outputs": [
        {
          "output_type": "stream",
          "name": "stdout",
          "text": [
            "Have you uploaded all pdf files? (y or n)y\n",
            "Okay, go to the next code\n"
          ]
        }
      ]
    },
    {
      "cell_type": "markdown",
      "source": [
        "### filelist in a directory ('data')"
      ],
      "metadata": {
        "id": "_T2aML9Fm3xo"
      }
    },
    {
      "cell_type": "code",
      "source": [
        "import os\n",
        "current = !pwd\n",
        "print(\"This is your current directory: %s\"%current)\n",
        "filenames = os.listdir('.')\n",
        "print(\"There are %d files: \"%len(filenames))\n",
        "print(filenames)"
      ],
      "metadata": {
        "colab": {
          "base_uri": "https://localhost:8080/"
        },
        "id": "FhcWSKB3k9Cu",
        "outputId": "940c4ad3-3b4c-4a58-d5eb-a15223b3f27e"
      },
      "execution_count": null,
      "outputs": [
        {
          "output_type": "stream",
          "name": "stdout",
          "text": [
            "This is your current directory: ['/content/data']\n",
            "There are 3 files: \n",
            "['2014.12.pdf', '2014.6.pdf', '.ipynb_checkpoints']\n"
          ]
        }
      ]
    },
    {
      "cell_type": "markdown",
      "source": [
        "### Run this if there are files with extension other than 'pdf'"
      ],
      "metadata": {
        "id": "viAUwj1om-JG"
      }
    },
    {
      "cell_type": "code",
      "source": [
        "# Select pdf files under 'data' folder as pdflist\n",
        "pdflist = []\n",
        "import os\n",
        "for file in os.listdir(\"/content/data\"):\n",
        "    if file.endswith(\".pdf\"):\n",
        "        pdflist.append(file)\n",
        "print(pdflist)"
      ],
      "metadata": {
        "colab": {
          "base_uri": "https://localhost:8080/"
        },
        "id": "WDmwyy99lzLf",
        "outputId": "82c04a0d-f057-4f7a-8dc8-1f34f32d311d"
      },
      "execution_count": null,
      "outputs": [
        {
          "output_type": "stream",
          "name": "stdout",
          "text": [
            "['2014.12.pdf', '2014.6.pdf']\n"
          ]
        }
      ]
    },
    {
      "cell_type": "markdown",
      "source": [
        "### Combine texts (multiple pdfs) into a single file (total.txt)."
      ],
      "metadata": {
        "id": "IIi2eNqunG16"
      }
    },
    {
      "cell_type": "code",
      "source": [
        "with fitz.open(DIGITIZED_FILE) as doc:\n",
        "    for page in doc:\n",
        "        text = page.get_text()\n",
        "        print(text)"
      ],
      "metadata": {
        "id": "Dntk_1bnpUZ-"
      },
      "execution_count": null,
      "outputs": []
    },
    {
      "cell_type": "code",
      "source": [
        "total = \"\"\n",
        "for i in range(0, len(pdflist)):\n",
        "  DF = pdflist[i]\n",
        "  with fitz.open(DF) as doc:\n",
        "      for page in doc:\n",
        "          text = page.get_text()\n",
        "          total = total + text\n",
        "  with open('total.txt','w') as writefile:\n",
        "      writefile.write(total)"
      ],
      "metadata": {
        "colab": {
          "base_uri": "https://localhost:8080/",
          "height": 399
        },
        "id": "MCyGclJxktDZ",
        "outputId": "87b77f61-7e0e-4b75-cca8-3e8cd48a8cf8"
      },
      "execution_count": null,
      "outputs": [
        {
          "output_type": "error",
          "ename": "FileDataError",
          "evalue": "ignored",
          "traceback": [
            "\u001b[0;31m---------------------------------------------------------------------------\u001b[0m",
            "\u001b[0;31mFileDataError\u001b[0m                             Traceback (most recent call last)",
            "\u001b[0;32m<ipython-input-39-b070e8254da2>\u001b[0m in \u001b[0;36m<module>\u001b[0;34m\u001b[0m\n\u001b[1;32m      2\u001b[0m \u001b[0;32mfor\u001b[0m \u001b[0mi\u001b[0m \u001b[0;32min\u001b[0m \u001b[0mrange\u001b[0m\u001b[0;34m(\u001b[0m\u001b[0;36m0\u001b[0m\u001b[0;34m,\u001b[0m \u001b[0mlen\u001b[0m\u001b[0;34m(\u001b[0m\u001b[0mpdflist\u001b[0m\u001b[0;34m)\u001b[0m\u001b[0;34m)\u001b[0m\u001b[0;34m:\u001b[0m\u001b[0;34m\u001b[0m\u001b[0;34m\u001b[0m\u001b[0m\n\u001b[1;32m      3\u001b[0m   \u001b[0mDF\u001b[0m \u001b[0;34m=\u001b[0m \u001b[0mpdflist\u001b[0m\u001b[0;34m[\u001b[0m\u001b[0mi\u001b[0m\u001b[0;34m]\u001b[0m\u001b[0;34m\u001b[0m\u001b[0;34m\u001b[0m\u001b[0m\n\u001b[0;32m----> 4\u001b[0;31m   \u001b[0;32mwith\u001b[0m \u001b[0mfitz\u001b[0m\u001b[0;34m.\u001b[0m\u001b[0mopen\u001b[0m\u001b[0;34m(\u001b[0m\u001b[0mDF\u001b[0m\u001b[0;34m)\u001b[0m \u001b[0;32mas\u001b[0m \u001b[0mdoc\u001b[0m\u001b[0;34m:\u001b[0m\u001b[0;34m\u001b[0m\u001b[0;34m\u001b[0m\u001b[0m\n\u001b[0m\u001b[1;32m      5\u001b[0m     \u001b[0;32mfor\u001b[0m \u001b[0mpage\u001b[0m \u001b[0;32min\u001b[0m \u001b[0mdoc\u001b[0m\u001b[0;34m:\u001b[0m\u001b[0;34m\u001b[0m\u001b[0;34m\u001b[0m\u001b[0m\n\u001b[1;32m      6\u001b[0m         \u001b[0mtext\u001b[0m \u001b[0;34m=\u001b[0m \u001b[0mpage\u001b[0m\u001b[0;34m.\u001b[0m\u001b[0mget_text\u001b[0m\u001b[0;34m(\u001b[0m\u001b[0;34m)\u001b[0m\u001b[0;34m\u001b[0m\u001b[0;34m\u001b[0m\u001b[0m\n",
            "\u001b[0;32m/usr/local/lib/python3.8/dist-packages/fitz/fitz.py\u001b[0m in \u001b[0;36m__init__\u001b[0;34m(self, filename, stream, filetype, rect, width, height, fontsize)\u001b[0m\n\u001b[1;32m   3959\u001b[0m \u001b[0;34m\u001b[0m\u001b[0m\n\u001b[1;32m   3960\u001b[0m \u001b[0;34m\u001b[0m\u001b[0m\n\u001b[0;32m-> 3961\u001b[0;31m         \u001b[0m_fitz\u001b[0m\u001b[0;34m.\u001b[0m\u001b[0mDocument_swiginit\u001b[0m\u001b[0;34m(\u001b[0m\u001b[0mself\u001b[0m\u001b[0;34m,\u001b[0m \u001b[0m_fitz\u001b[0m\u001b[0;34m.\u001b[0m\u001b[0mnew_Document\u001b[0m\u001b[0;34m(\u001b[0m\u001b[0mfilename\u001b[0m\u001b[0;34m,\u001b[0m \u001b[0mstream\u001b[0m\u001b[0;34m,\u001b[0m \u001b[0mfiletype\u001b[0m\u001b[0;34m,\u001b[0m \u001b[0mrect\u001b[0m\u001b[0;34m,\u001b[0m \u001b[0mwidth\u001b[0m\u001b[0;34m,\u001b[0m \u001b[0mheight\u001b[0m\u001b[0;34m,\u001b[0m \u001b[0mfontsize\u001b[0m\u001b[0;34m)\u001b[0m\u001b[0;34m)\u001b[0m\u001b[0;34m\u001b[0m\u001b[0;34m\u001b[0m\u001b[0m\n\u001b[0m\u001b[1;32m   3962\u001b[0m \u001b[0;34m\u001b[0m\u001b[0m\n\u001b[1;32m   3963\u001b[0m         \u001b[0;32mif\u001b[0m \u001b[0mself\u001b[0m\u001b[0;34m.\u001b[0m\u001b[0mthisown\u001b[0m\u001b[0;34m:\u001b[0m\u001b[0;34m\u001b[0m\u001b[0;34m\u001b[0m\u001b[0m\n",
            "\u001b[0;31mFileDataError\u001b[0m: cannot open broken document"
          ]
        }
      ]
    },
    {
      "cell_type": "markdown",
      "source": [
        "### Saving files as individual txt files."
      ],
      "metadata": {
        "id": "n8DwfOKenfX9"
      }
    },
    {
      "cell_type": "code",
      "source": [
        "total = \"\"\n",
        "for i in range(0, len(pdflist)):\n",
        "  with fitz.open(pdflist[i]) as doc:\n",
        "    for page in doc:\n",
        "        text = page.get_text()\n",
        "        total = total + text\n",
        "  file_name = pdflist[i]\n",
        "  with open(file_name,'w') as writefile:\n",
        "      writefile.write(total)\n",
        "  total = \"\""
      ],
      "metadata": {
        "colab": {
          "base_uri": "https://localhost:8080/",
          "height": 399
        },
        "id": "Hf2mAmr2mH82",
        "outputId": "03c9a0b8-e22d-40a9-aa06-c7cd84a47b2c"
      },
      "execution_count": null,
      "outputs": [
        {
          "output_type": "error",
          "ename": "FileDataError",
          "evalue": "ignored",
          "traceback": [
            "\u001b[0;31m---------------------------------------------------------------------------\u001b[0m",
            "\u001b[0;31mFileDataError\u001b[0m                             Traceback (most recent call last)",
            "\u001b[0;32m<ipython-input-28-69dd8b4bd557>\u001b[0m in \u001b[0;36m<module>\u001b[0;34m\u001b[0m\n\u001b[1;32m      1\u001b[0m \u001b[0mtotal\u001b[0m \u001b[0;34m=\u001b[0m \u001b[0;34m\"\"\u001b[0m\u001b[0;34m\u001b[0m\u001b[0;34m\u001b[0m\u001b[0m\n\u001b[1;32m      2\u001b[0m \u001b[0;32mfor\u001b[0m \u001b[0mi\u001b[0m \u001b[0;32min\u001b[0m \u001b[0mrange\u001b[0m\u001b[0;34m(\u001b[0m\u001b[0;36m0\u001b[0m\u001b[0;34m,\u001b[0m \u001b[0mlen\u001b[0m\u001b[0;34m(\u001b[0m\u001b[0mpdflist\u001b[0m\u001b[0;34m)\u001b[0m\u001b[0;34m)\u001b[0m\u001b[0;34m:\u001b[0m\u001b[0;34m\u001b[0m\u001b[0;34m\u001b[0m\u001b[0m\n\u001b[0;32m----> 3\u001b[0;31m   \u001b[0;32mwith\u001b[0m \u001b[0mfitz\u001b[0m\u001b[0;34m.\u001b[0m\u001b[0mopen\u001b[0m\u001b[0;34m(\u001b[0m\u001b[0mpdflist\u001b[0m\u001b[0;34m[\u001b[0m\u001b[0mi\u001b[0m\u001b[0;34m]\u001b[0m\u001b[0;34m)\u001b[0m \u001b[0;32mas\u001b[0m \u001b[0mdoc\u001b[0m\u001b[0;34m:\u001b[0m\u001b[0;34m\u001b[0m\u001b[0;34m\u001b[0m\u001b[0m\n\u001b[0m\u001b[1;32m      4\u001b[0m     \u001b[0;32mfor\u001b[0m \u001b[0mpage\u001b[0m \u001b[0;32min\u001b[0m \u001b[0mdoc\u001b[0m\u001b[0;34m:\u001b[0m\u001b[0;34m\u001b[0m\u001b[0;34m\u001b[0m\u001b[0m\n\u001b[1;32m      5\u001b[0m         \u001b[0mtext\u001b[0m \u001b[0;34m=\u001b[0m \u001b[0mpage\u001b[0m\u001b[0;34m.\u001b[0m\u001b[0mget_text\u001b[0m\u001b[0;34m(\u001b[0m\u001b[0;34m)\u001b[0m\u001b[0;34m\u001b[0m\u001b[0;34m\u001b[0m\u001b[0m\n",
            "\u001b[0;32m/usr/local/lib/python3.8/dist-packages/fitz/fitz.py\u001b[0m in \u001b[0;36m__init__\u001b[0;34m(self, filename, stream, filetype, rect, width, height, fontsize)\u001b[0m\n\u001b[1;32m   3959\u001b[0m \u001b[0;34m\u001b[0m\u001b[0m\n\u001b[1;32m   3960\u001b[0m \u001b[0;34m\u001b[0m\u001b[0m\n\u001b[0;32m-> 3961\u001b[0;31m         \u001b[0m_fitz\u001b[0m\u001b[0;34m.\u001b[0m\u001b[0mDocument_swiginit\u001b[0m\u001b[0;34m(\u001b[0m\u001b[0mself\u001b[0m\u001b[0;34m,\u001b[0m \u001b[0m_fitz\u001b[0m\u001b[0;34m.\u001b[0m\u001b[0mnew_Document\u001b[0m\u001b[0;34m(\u001b[0m\u001b[0mfilename\u001b[0m\u001b[0;34m,\u001b[0m \u001b[0mstream\u001b[0m\u001b[0;34m,\u001b[0m \u001b[0mfiletype\u001b[0m\u001b[0;34m,\u001b[0m \u001b[0mrect\u001b[0m\u001b[0;34m,\u001b[0m \u001b[0mwidth\u001b[0m\u001b[0;34m,\u001b[0m \u001b[0mheight\u001b[0m\u001b[0;34m,\u001b[0m \u001b[0mfontsize\u001b[0m\u001b[0;34m)\u001b[0m\u001b[0;34m)\u001b[0m\u001b[0;34m\u001b[0m\u001b[0;34m\u001b[0m\u001b[0m\n\u001b[0m\u001b[1;32m   3962\u001b[0m \u001b[0;34m\u001b[0m\u001b[0m\n\u001b[1;32m   3963\u001b[0m         \u001b[0;32mif\u001b[0m \u001b[0mself\u001b[0m\u001b[0;34m.\u001b[0m\u001b[0mthisown\u001b[0m\u001b[0;34m:\u001b[0m\u001b[0;34m\u001b[0m\u001b[0;34m\u001b[0m\u001b[0m\n",
            "\u001b[0;31mFileDataError\u001b[0m: cannot open broken document"
          ]
        }
      ]
    }
  ]
}