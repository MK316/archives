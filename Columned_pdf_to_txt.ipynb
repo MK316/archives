{
  "nbformat": 4,
  "nbformat_minor": 0,
  "metadata": {
    "colab": {
      "provenance": [],
      "authorship_tag": "ABX9TyOyT0gXlCdTfVmpaY/ftNv5",
      "include_colab_link": true
    },
    "kernelspec": {
      "name": "python3",
      "display_name": "Python 3"
    },
    "language_info": {
      "name": "python"
    }
  },
  "cells": [
    {
      "cell_type": "markdown",
      "metadata": {
        "id": "view-in-github",
        "colab_type": "text"
      },
      "source": [
        "<a href=\"https://colab.research.google.com/github/MK316/archives/blob/main/Columned_pdf_to_txt.ipynb\" target=\"_parent\"><img src=\"https://colab.research.google.com/assets/colab-badge.svg\" alt=\"Open In Colab\"/></a>"
      ]
    },
    {
      "cell_type": "markdown",
      "source": [
        "# PDF with columns to a text file\n",
        "\n",
        "* Example file: SAT test material (with 2 columns)"
      ],
      "metadata": {
        "id": "FweB4ySDfmX3"
      }
    },
    {
      "cell_type": "markdown",
      "source": [
        "[Sample file to download](https://github.com/MK316/Workingpapers/blob/main/ksatdata/2014.12.pdf)"
      ],
      "metadata": {
        "id": "OEfXGu_MfzmV"
      }
    },
    {
      "cell_type": "code",
      "execution_count": 1,
      "metadata": {
        "id": "eramC7C9fcf6"
      },
      "outputs": [],
      "source": [
        "%%capture\n",
        "!pip install pymupdf\n",
        "import fitz"
      ]
    },
    {
      "cell_type": "code",
      "source": [
        "DIGITIZED_FILE = \"/content/2014.12.pdf\""
      ],
      "metadata": {
        "id": "MKfE2IwQf_BD"
      },
      "execution_count": 21,
      "outputs": []
    },
    {
      "cell_type": "code",
      "source": [
        "total = \"\"\n",
        "with fitz.open(DIGITIZED_FILE) as doc:\n",
        "    for page in doc:\n",
        "        text = page.get_text()\n",
        "        total = total + text\n",
        "    response = input(\"Do you want to display the text? (y or n)\")\n",
        "    if response == \"y\":\n",
        "      print(text)\n",
        "    elif response == \"n\":\n",
        "      print(\"Your file is successfully extracted\")\n",
        "\n",
        "response = input(\"Would you like to save it as a text file? (y or n)\")\n",
        "\n",
        "if response == \"y\":\n",
        "  file_name = DIGITIZED_FILE.replace(\"pdf\", \"txt\")\n",
        "  print(\"Text file is saved: %s\"%file_name)\n",
        "  \n",
        "  with open(file_name,'w') as writefile:\n",
        "    writefile.write(total)"
      ],
      "metadata": {
        "id": "yjkDfezkgEyo"
      },
      "execution_count": null,
      "outputs": []
    },
    {
      "cell_type": "code",
      "source": [
        "# Multiple pdf files to a single file\n",
        "\n",
        "# 1. Make a new directory and change current one to the new one.\n",
        "import os.path\n",
        "os.mkdir(\"/content/data/\")\n",
        "os.chdir(\"/content/data/\")"
      ],
      "metadata": {
        "id": "FyS5tYYQhUmI"
      },
      "execution_count": 5,
      "outputs": []
    },
    {
      "cell_type": "markdown",
      "source": [
        "File to upload:"
      ],
      "metadata": {
        "id": "37Sp3W1GiRp0"
      }
    },
    {
      "cell_type": "code",
      "source": [
        "# 2. Upload pdf files under /data/ folder\n",
        "response = input(\"Have you uploaded all pdf files? (y or n)\")\n",
        "if response == \"y\":\n",
        "  print(\"Okay, go to the next code\")\n",
        "else:\n",
        "  print(\"Rerun this code when upload is done.\")"
      ],
      "metadata": {
        "colab": {
          "base_uri": "https://localhost:8080/"
        },
        "id": "NawXc99XiLlw",
        "outputId": "9069b31a-4a25-4240-9f53-65fe8cedc672"
      },
      "execution_count": 6,
      "outputs": [
        {
          "output_type": "stream",
          "name": "stdout",
          "text": [
            "Have you uploaded all pdf files? (y or n)y\n",
            "Okay, go to the next code\n"
          ]
        }
      ]
    },
    {
      "cell_type": "markdown",
      "source": [
        "### filelist in a directory ('data')"
      ],
      "metadata": {
        "id": "_T2aML9Fm3xo"
      }
    },
    {
      "cell_type": "code",
      "source": [
        "import os\n",
        "current = !pwd\n",
        "print(\"This is your current directory: %s\"%current)\n",
        "filenames = os.listdir('.')\n",
        "print(\"There are %d files: \"%len(filenames))\n",
        "print(filenames)"
      ],
      "metadata": {
        "colab": {
          "base_uri": "https://localhost:8080/"
        },
        "id": "FhcWSKB3k9Cu",
        "outputId": "4e74d7f6-c55e-4aad-dbb6-5214e0b8be93"
      },
      "execution_count": 7,
      "outputs": [
        {
          "output_type": "stream",
          "name": "stdout",
          "text": [
            "This is your current directory: ['/content/data']\n",
            "There are 2 files: \n",
            "['2014.6.pdf', '2014.12.pdf']\n"
          ]
        }
      ]
    },
    {
      "cell_type": "markdown",
      "source": [
        "### Run this if there are files with extension other than 'pdf'"
      ],
      "metadata": {
        "id": "viAUwj1om-JG"
      }
    },
    {
      "cell_type": "code",
      "source": [
        "# Select pdf files under 'data' folder as pdflist\n",
        "pdflist = []\n",
        "import os\n",
        "for file in os.listdir(\"/content/data\"):\n",
        "    if file.endswith(\".pdf\"):\n",
        "        pdflist.append(file)\n",
        "print(pdflist)"
      ],
      "metadata": {
        "colab": {
          "base_uri": "https://localhost:8080/"
        },
        "id": "WDmwyy99lzLf",
        "outputId": "1817c061-ed55-46ee-9a5b-150e78cb7221"
      },
      "execution_count": 8,
      "outputs": [
        {
          "output_type": "stream",
          "name": "stdout",
          "text": [
            "['2014.6.pdf', '2014.12.pdf']\n"
          ]
        }
      ]
    },
    {
      "cell_type": "markdown",
      "source": [
        "### Combine texts (multiple pdfs) into a single file (total.txt)."
      ],
      "metadata": {
        "id": "IIi2eNqunG16"
      }
    },
    {
      "cell_type": "code",
      "source": [
        "# with fitz.open(DIGITIZED_FILE) as doc:\n",
        "#     for page in doc:\n",
        "#         text = page.get_text()\n",
        "#         print(text)"
      ],
      "metadata": {
        "id": "Dntk_1bnpUZ-"
      },
      "execution_count": null,
      "outputs": []
    },
    {
      "cell_type": "code",
      "source": [
        "# Multiple files to a single (total.txt)\n",
        "total = \"\"\n",
        "for i in range(0, len(pdflist)):\n",
        "  DF = pdflist[i]\n",
        "  with fitz.open(DF) as doc:\n",
        "      for page in doc:\n",
        "          text = page.get_text()\n",
        "          total = total + text\n",
        "  with open('total.txt','w') as writefile:\n",
        "      writefile.write(total)"
      ],
      "metadata": {
        "id": "MCyGclJxktDZ"
      },
      "execution_count": 10,
      "outputs": []
    }
  ]
}