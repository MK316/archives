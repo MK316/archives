{
  "nbformat": 4,
  "nbformat_minor": 0,
  "metadata": {
    "colab": {
      "provenance": [],
      "authorship_tag": "ABX9TyN1kks1Ga+fRJ6Ma3aZh4Ev",
      "include_colab_link": true
    },
    "kernelspec": {
      "name": "python3",
      "display_name": "Python 3"
    },
    "language_info": {
      "name": "python"
    }
  },
  "cells": [
    {
      "cell_type": "markdown",
      "metadata": {
        "id": "view-in-github",
        "colab_type": "text"
      },
      "source": [
        "<a href=\"https://colab.research.google.com/github/MK316/archives/blob/main/Single_pdf.ipynb\" target=\"_parent\"><img src=\"https://colab.research.google.com/assets/colab-badge.svg\" alt=\"Open In Colab\"/></a>"
      ]
    },
    {
      "cell_type": "code",
      "source": [
        "!pip install pdfplumber\n",
        "import pdfplumber"
      ],
      "metadata": {
        "colab": {
          "base_uri": "https://localhost:8080/"
        },
        "id": "IAEss10ZflOu",
        "outputId": "441a6f59-a429-40e7-a08d-f9798b5ef016"
      },
      "execution_count": 2,
      "outputs": [
        {
          "output_type": "stream",
          "name": "stdout",
          "text": [
            "Looking in indexes: https://pypi.org/simple, https://us-python.pkg.dev/colab-wheels/public/simple/\n",
            "Requirement already satisfied: pdfplumber in /usr/local/lib/python3.8/dist-packages (0.7.6)\n",
            "Requirement already satisfied: Wand>=0.6.10 in /usr/local/lib/python3.8/dist-packages (from pdfplumber) (0.6.10)\n",
            "Requirement already satisfied: pdfminer.six==20221105 in /usr/local/lib/python3.8/dist-packages (from pdfplumber) (20221105)\n",
            "Requirement already satisfied: Pillow>=9.1 in /usr/local/lib/python3.8/dist-packages (from pdfplumber) (9.3.0)\n",
            "Requirement already satisfied: charset-normalizer>=2.0.0 in /usr/local/lib/python3.8/dist-packages (from pdfminer.six==20221105->pdfplumber) (2.1.1)\n",
            "Requirement already satisfied: cryptography>=36.0.0 in /usr/local/lib/python3.8/dist-packages (from pdfminer.six==20221105->pdfplumber) (38.0.4)\n",
            "Requirement already satisfied: cffi>=1.12 in /usr/local/lib/python3.8/dist-packages (from cryptography>=36.0.0->pdfminer.six==20221105->pdfplumber) (1.15.1)\n",
            "Requirement already satisfied: pycparser in /usr/local/lib/python3.8/dist-packages (from cffi>=1.12->cryptography>=36.0.0->pdfminer.six==20221105->pdfplumber) (2.21)\n"
          ]
        }
      ]
    },
    {
      "cell_type": "markdown",
      "source": [
        "[Sample file to download](https://github.com/MK316/Workingpapers/blob/main/ksatdata/2014.12.pdf)"
      ],
      "metadata": {
        "id": "ISduuJxTf_hw"
      }
    },
    {
      "cell_type": "code",
      "source": [
        "file = '/content/2014.12.pdf'\n",
        "pdf = pdfplumber.open(file)"
      ],
      "metadata": {
        "id": "fTX56obtf6NI"
      },
      "execution_count": 3,
      "outputs": []
    },
    {
      "cell_type": "code",
      "source": [
        "#pdf.pages\n",
        "\n",
        "print(\"Number of pages: %d\"%len(pdf.pages))"
      ],
      "metadata": {
        "colab": {
          "base_uri": "https://localhost:8080/"
        },
        "id": "qcgKlOUufoPp",
        "outputId": "44cd9bff-2d0a-4913-e84f-15c78fb15325"
      },
      "execution_count": 4,
      "outputs": [
        {
          "output_type": "stream",
          "name": "stdout",
          "text": [
            "Number of pages: 8\n"
          ]
        }
      ]
    },
    {
      "cell_type": "code",
      "source": [
        "\n",
        "# Specify page number to handle\n",
        "page = pdf.pages[7]"
      ],
      "metadata": {
        "id": "S6Nw0LX-fqQC"
      },
      "execution_count": 5,
      "outputs": []
    },
    {
      "cell_type": "code",
      "source": [
        "\n",
        "# Extract the page\n",
        "text = page.extract_text()\n",
        "print(text)"
      ],
      "metadata": {
        "colab": {
          "base_uri": "https://localhost:8080/"
        },
        "id": "Vui9WzG0fsAk",
        "outputId": "db31d812-ca37-4b9f-93f4-1b48bcfcddf1"
      },
      "execution_count": 6,
      "outputs": [
        {
          "output_type": "stream",
          "name": "stdout",
          "text": [
            "8\n",
            "홀수형\n",
            "[41～42] 다음 글을 읽고, 물음에 답하시오. (B)\n",
            "One day, when I saw my grandmother on the street by \n",
            "It is well known that some baseball parks are better for \n",
            "chance, I noticed that (b)she had difficulty in reading an \n",
            "hitting home runs than others. It is not just the size of the \n",
            "English sign. Right at that moment, it hit upon me to teach \n",
            "park that matters. Other park conditions such as wind and \n",
            "her to read English in return for all she had taught me. I \n",
            "humidity also affect whether a ball sails over the fences, and \n",
            "talked to my mom about it, and (c)she was delighted with \n",
            "players know this. So what happens when a player is moved \n",
            "my plan. So my grandmother and I worked hard together \n",
            "to a team whose baseball park has better conditions for home \n",
            "using books for beginners.\n",
            "runs  than  his  current  one―say,  28  percent  better?  One \n",
            "analysis found that the player hit 60 percent more home runs. \n",
            "(C)\n",
            "Why? The answer lies in how achievable you think the goal \n",
            "My  efforts  were  rewarded  only  a  month  later  on  the \n",
            "is. If you think you are likely to hit more home runs, you are \n",
            "morning  of  my  eighteenth  birthday.  My  grandmother \n",
            "more likely to swing for the fences. But if you think your \n",
            "decorated a cake with “HAPPY BIRTHDAY BETTY.” I had \n",
            "chance of hitting a home run is smaller, your brain will send \n",
            "only taught her the basics of reading, but (d)she had written \n",
            "you signals to just try for a single to get on base.\n",
            "these words all by herself. Touched by this simple message, I \n",
            "In business and life, just as in baseball, our   \n",
            "said, “It’s not just my birthday, Grandma. You stepped into \n",
            "can  affect  whether  we  swing  for  the  fences  or  not.  The \n",
            "this country at eighteen. Now, you are stepping into another \n",
            "baseball research shows us that what matters is not the actual \n",
            "new world. So it’s your birthday, too.”\n",
            "distance  to  the  fence  but  what  our  brains  recognize  that \n",
            "distance to be. Consider your work and your current life. Do \n",
            "(D)\n",
            "the fences seem too far away to hit a home run? Simply \n",
            "adjust the fences so that it seems easier. My grandmother liked to tell me these interesting stories at \n",
            "*single: 1루타, 단타 night. I still remember a few stories in which the gods made \n",
            "promises with each other like humans. Those who broke their \n",
            "promises  were  punished.  While  listening  to  the  stories,  I \n",
            "41. 위 글의 제목으로 가장 적절한 것은?\n",
            "decided that I would not break any promises. The morals of \n",
            "① Move Your Fences Closer\n",
            "(e)her stories taught me how I should live my life.\n",
            "② Why Does Teamwork Matter?\n",
            "③ Is Statistics Necessary in Sports?\n",
            "43. 주어진 글 (A)에 이어질 내용을 순서에 맞게 배열한 것으로 \n",
            "④ Change Your Team for More Benefits\n",
            "가장 적절한 것은?\n",
            "⑤ Better Park Conditions: Size vs. Wind\n",
            "①  (B)－(C)－(D) ②  (B)－(D)－(C)\n",
            "③  (C)－(B)－(D) ④  (D)－(B)－(C)\n",
            "⑤  (D)－(C)－(B)\n",
            "42. 위 글의 빈칸에 들어갈 말로 가장 적절한 것은?  [3점]\n",
            "44. 밑줄 친 (a)～(e)  중에서 가리키는 대상이 나머지 넷과 다른 \n",
            "①  strengths ②  perceptions ③  incomes\n",
            "것은?\n",
            "④  sacrifices ⑤  appearances\n",
            "①  (a) ②  (b) ③  (c) ④  (d) ⑤  (e)\n",
            "45. 위 글의 grandmother에 관한 내용과 일치하지 않는  것은?\n",
            "① 18세에 그리스에서 미국으로 이민을 왔다.\n",
            "② 학교에서 읽기를 배운 적이 없다.\n",
            "[43～45] 다음 글을 읽고, 물음에 답하시오.\n",
            "③ 필자와 초보자용 책으로 공부하였다.\n",
            "(A)\n",
            "④ 필자의 생일 케이크에 축하 문구로 장식을 하였다.\n",
            "Mom once said that my grandmother came to America as a  ⑤ 필자에게 밤에 재미있는 이야기를 듣는 것을 좋아했다.\n",
            "poor  uneducated  Greek  immigrant  at  eighteen.  My \n",
            "grandmother wanted to go to school, but the harsh immigrant \n",
            "life pushed (a)her to support her family. Though she never  *  확인 사항\n",
            "learned to read in school, she knew many traditional stories \n",
            "◦답안지의 해당란에 필요한 내용을 정확히 기입(표기)했는지 확인\n",
            "from her home country. \n",
            "하시오.\n",
            "8\n",
            "8\n",
            "이 문제지에 관한 저작권은 한국교육과정평가원에 있습니다.\n"
          ]
        }
      ]
    },
    {
      "cell_type": "code",
      "source": [
        "total = \"\"\n",
        "\n",
        "for p in range(0,len(pdf.pages)):\n",
        "  pg = pdf.pages[p]\n",
        "  txt = pg.extract_text()\n",
        "  total = total + txt"
      ],
      "metadata": {
        "id": "yhirabaKfvN8"
      },
      "execution_count": 7,
      "outputs": []
    },
    {
      "cell_type": "code",
      "source": [
        "txtfile = file.replace(\"pdf\", \"txt\")\n",
        "\n",
        "with open(txtfile,'w') as writefile:\n",
        "  writefile.write(total)"
      ],
      "metadata": {
        "id": "WNNjio57fzRO"
      },
      "execution_count": 8,
      "outputs": []
    }
  ]
}