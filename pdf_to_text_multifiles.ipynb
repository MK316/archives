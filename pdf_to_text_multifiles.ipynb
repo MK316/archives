{
  "nbformat": 4,
  "nbformat_minor": 0,
  "metadata": {
    "colab": {
      "provenance": [],
      "authorship_tag": "ABX9TyNP2WJ3e3F+2TjlNC+y2gX4",
      "include_colab_link": true
    },
    "kernelspec": {
      "name": "python3",
      "display_name": "Python 3"
    },
    "language_info": {
      "name": "python"
    }
  },
  "cells": [
    {
      "cell_type": "markdown",
      "metadata": {
        "id": "view-in-github",
        "colab_type": "text"
      },
      "source": [
        "<a href=\"https://colab.research.google.com/github/MK316/archives/blob/main/pdf_to_text_multifiles.ipynb\" target=\"_parent\"><img src=\"https://colab.research.google.com/assets/colab-badge.svg\" alt=\"Open In Colab\"/></a>"
      ]
    },
    {
      "cell_type": "code",
      "execution_count": 1,
      "metadata": {
        "id": "aibnlrtYSHrl"
      },
      "outputs": [],
      "source": [
        "import base64\n",
        "import requests"
      ]
    },
    {
      "cell_type": "code",
      "source": [
        "import os.path\n",
        "os.chdir('/content/data/')\n",
        "!pwd"
      ],
      "metadata": {
        "colab": {
          "base_uri": "https://localhost:8080/"
        },
        "id": "9VezPz7jSLHE",
        "outputId": "92263d44-e55e-4467-cf79-43ddb55e5b4a"
      },
      "execution_count": 4,
      "outputs": [
        {
          "output_type": "stream",
          "name": "stdout",
          "text": [
            "/content/data\n"
          ]
        }
      ]
    },
    {
      "cell_type": "code",
      "source": [
        "import os\n",
        "filenames = os.listdir('.')\n",
        "print(filenames)\n",
        "print(\"Number of files: %d\"%len(filenames))"
      ],
      "metadata": {
        "colab": {
          "base_uri": "https://localhost:8080/"
        },
        "id": "I7rtpZvxSpeI",
        "outputId": "bfc11e25-41ff-43f2-8f1d-f2e1489758be"
      },
      "execution_count": 8,
      "outputs": [
        {
          "output_type": "stream",
          "name": "stdout",
          "text": [
            "['2014.12.pdf', '2014.6.pdf']\n",
            "Number of files: 2\n"
          ]
        }
      ]
    },
    {
      "cell_type": "code",
      "source": [],
      "metadata": {
        "colab": {
          "base_uri": "https://localhost:8080/"
        },
        "id": "uFkQhVGCS3WW",
        "outputId": "88916e3c-047e-4d5d-b169-4fa44b5726a0"
      },
      "execution_count": 6,
      "outputs": [
        {
          "output_type": "execute_result",
          "data": {
            "text/plain": [
              "['2014.12.pdf', '2014.6.pdf']"
            ]
          },
          "metadata": {},
          "execution_count": 6
        }
      ]
    }
  ]
}